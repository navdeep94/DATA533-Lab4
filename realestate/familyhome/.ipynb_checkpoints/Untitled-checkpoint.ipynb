{
 "cells": [
  {
   "cell_type": "code",
   "execution_count": 5,
   "id": "7901026d-73dd-4968-bcf0-c57567226fa5",
   "metadata": {},
   "outputs": [],
   "source": [
    "from FamilyHome"
   ]
  },
  {
   "cell_type": "code",
   "execution_count": 18,
   "id": "06a0b0ce-01f2-47aa-b121-5e8f388d7a3f",
   "metadata": {},
   "outputs": [
    {
     "name": "stdout",
     "output_type": "stream",
     "text": [
      "Here you can give your requirements for the house you want to buy and view its characteristics.\n",
      "\n",
      "\n",
      " -- Enter the number of family members who will live in the house:\n",
      "    You can enter from the following options: 1, 2, or 3 or more.\n"
     ]
    },
    {
     "name": "stdin",
     "output_type": "stream",
     "text": [
      " 1\n"
     ]
    },
    {
     "name": "stdout",
     "output_type": "stream",
     "text": [
      "\n",
      "\n",
      " -- Enter your budget criteria:\n",
      "    You can enter from the following options: low, medium, or high.\n"
     ]
    },
    {
     "name": "stdin",
     "output_type": "stream",
     "text": [
      " low\n"
     ]
    },
    {
     "name": "stdout",
     "output_type": "stream",
     "text": [
      "\n",
      "\n",
      " -- Enter your number of floors you wish to have in your house:\n",
      "    You can enter from the following options: 1, 2, or 3.\n"
     ]
    },
    {
     "name": "stdin",
     "output_type": "stream",
     "text": [
      " 3\n"
     ]
    },
    {
     "ename": "AttributeError",
     "evalue": "module 'areatype' has no attribute 'Characteristics_display'",
     "output_type": "error",
     "traceback": [
      "\u001b[1;31m---------------------------------------------------------------------------\u001b[0m",
      "\u001b[1;31mAttributeError\u001b[0m                            Traceback (most recent call last)",
      "\u001b[1;32mC:\\Users\\MEHULB~1\\AppData\\Local\\Temp/ipykernel_39900/2643877590.py\u001b[0m in \u001b[0;36m<module>\u001b[1;34m\u001b[0m\n\u001b[0;32m     14\u001b[0m \u001b[1;33m\u001b[0m\u001b[0m\n\u001b[0;32m     15\u001b[0m \u001b[0mobj\u001b[0m \u001b[1;33m=\u001b[0m \u001b[0mareatype\u001b[0m\u001b[1;33m.\u001b[0m\u001b[0mAreaType\u001b[0m\u001b[1;33m(\u001b[0m\u001b[0mfm\u001b[0m\u001b[1;33m,\u001b[0m \u001b[0mb\u001b[0m\u001b[1;33m,\u001b[0m \u001b[0mf\u001b[0m\u001b[1;33m)\u001b[0m\u001b[1;33m\u001b[0m\u001b[1;33m\u001b[0m\u001b[0m\n\u001b[1;32m---> 16\u001b[1;33m \u001b[0mareatype\u001b[0m\u001b[1;33m.\u001b[0m\u001b[0mCharacteristics_display\u001b[0m\u001b[1;33m(\u001b[0m\u001b[1;33m)\u001b[0m\u001b[1;33m\u001b[0m\u001b[1;33m\u001b[0m\u001b[0m\n\u001b[0m\u001b[0;32m     17\u001b[0m \u001b[1;33m\u001b[0m\u001b[0m\n",
      "\u001b[1;31mAttributeError\u001b[0m: module 'areatype' has no attribute 'Characteristics_display'"
     ]
    }
   ],
   "source": [
    "print(\"Here you can give your requirements for the house you want to buy and view its characteristics.\")\n",
    "print(\"\\n\")\n",
    "print(\" -- Enter the number of family members who will live in the house:\")\n",
    "print(\"    You can enter from the following options: 1, 2, or 3 or more.\")\n",
    "fm = input()\n",
    "print(\"\\n\")\n",
    "print(\" -- Enter your budget criteria:\")\n",
    "print(\"    You can enter from the following options: low, medium, or high.\")\n",
    "b = input()\n",
    "print(\"\\n\")\n",
    "print(\" -- Enter your number of floors you wish to have in your house:\")\n",
    "print(\"    You can enter from the following options: 1, 2, or 3.\")\n",
    "f = input()\n",
    "\n",
    "obj = areatype.AreaType(fm, b, f)\n",
    "areatype.Characteristics_display()\n",
    "\n"
   ]
  },
  {
   "cell_type": "code",
   "execution_count": null,
   "id": "75f640aa-8944-4a40-a0e6-7396e3b9f3c8",
   "metadata": {},
   "outputs": [],
   "source": []
  }
 ],
 "metadata": {
  "kernelspec": {
   "display_name": "Python 3 (ipykernel)",
   "language": "python",
   "name": "python3"
  },
  "language_info": {
   "codemirror_mode": {
    "name": "ipython",
    "version": 3
   },
   "file_extension": ".py",
   "mimetype": "text/x-python",
   "name": "python",
   "nbconvert_exporter": "python",
   "pygments_lexer": "ipython3",
   "version": "3.9.5"
  }
 },
 "nbformat": 4,
 "nbformat_minor": 5
}
