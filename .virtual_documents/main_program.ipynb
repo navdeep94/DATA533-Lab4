from realestate.familyhome import areatype  ## importing areaType module from subpackage realestate.familyhome which is under main package realestate
from realestate.familyhome import attributes ## importing attributes module from subpackage realestate.familyhome which is under main package realestate
from realestate.familyhome import highlights ## importing highlights module from subpackage realestate.familyhome which is under main package realestate
from realestate.apartment import Feature ## importing Feature module from subpackage realestate.apartment which is under main package realestate
from realestate.apartment import Location ## importing Location module from subpackage realestate.apartment which is under main package realestate
from realestate.apartment import Condition ## importing Condition module from subpackage realestate.apartment which is under main package realestate


#This is for apartment (Sub-package 1)

apartment_type = Feature.ApartmentType('1BHK') ## Instantiating the object apartment_type of class ApartmentType which is present under Feature Module
apartment_location = Location.Location('USA') ## Instantiating the object apartment_location of class Location which is present under Location Module
apartment_condition = Condition.Condition('0-3') ## Instantiating the object apartment_condition of class Condition which is present under Condition Module

apartment_details = [apartment_type, apartment_location, apartment_condition] ## Created the list of objects created whcih were instantiated in the previous line of code
for apartment_detail in apartment_details: ## traversing through each object which is part of list
    apartment_detail.apartment_display() ## access the common class method using the object created


#This is for family home (Sub-package 2)

print("Here you can give your requirements for the house you want to buy and view its characteristics.")
print("\n")
print(" -- Enter the number of family members who will live in the house:")
print("    You can enter from the following options: 1, 2, or 3 or more.")
fm = input() ## Taking the input from the users for entering the number of family members
print("\n")
print(" -- Enter your budget criteria:")
print("    You can enter from the following options: low, medium, or high.")
b = input() ## Taking the input from the user for entering budget criteria
print("\n")
print(" -- Enter your number of floors you wish to have in your house:")
print("    You can enter from the following options: 1, 2, or 3.")
f = input() ## Taking the input from the users for entering floors

obj = areatype.AreaType(fm, b, f) ## Instantiating the object of class areaType which is part of module areaType with the values which are taken as inputs from the user
obj.Characteristics_display() ## calling the common class method with the object which is instantiated
print("\n")
print("\n")


print("Now, if you want to know more about house facilities again enter the requirements as before: ")
print("\n")
print(" -- Enter the number of family members who will live in the house:")
print("    You can enter from the following options: 1, 2, or 3 or more.")
fm = input() ## Asking the users again to enter number of family members
print("\n")
print(" -- Enter your budget criteria:")
print("    You can enter from the following options: low, medium, or high.")
b = input() ## Asking the user again to enter the budget criteria
print("\n")
print(" -- Enter your number of floors you wish to have in your house:")
print("    You can enter from the following options: 1, 2, or 3.")
f = input() ## Asking the user again to enter the number of floors in the house


obj1 = highlights.Highlights(fm, b, f) ## Instantiating the object of class Highlights which is part of module highlights with the values which are taken as inputs from the user
obj1.Characteristics_display() ## calling the common class method with the object which is instantiated
