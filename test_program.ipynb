{
 "cells": [
  {
   "cell_type": "markdown",
   "id": "2c317c10-0dbc-41d6-8a48-bf093e3caaff",
   "metadata": {},
   "source": [
    "# Main Program (This showcases the working of our package, sub-packages and their modules/classes/methods/function)"
   ]
  },
  {
   "cell_type": "markdown",
   "id": "f157f6e2-ca1a-49b3-8468-7422028bff4c",
   "metadata": {},
   "source": [
    "#### Importing packages, subpackages and modules"
   ]
  },
  {
   "cell_type": "code",
   "execution_count": 11,
   "id": "fbd37960-7e51-498c-95af-3294ab15527a",
   "metadata": {},
   "outputs": [],
   "source": [
    "from realestate.familyhome import areatype  ## importing areaType module from subpackage realestate.familyhome which is under main package realestate\n",
    "from realestate.familyhome import attributes ## importing attributes module from subpackage realestate.familyhome which is under main package realestate\n",
    "from realestate.familyhome import highlights ## importing highlights module from subpackage realestate.familyhome which is under main package realestate\n",
    "from realestate.apartment import Feature ## importing Feature module from subpackage realestate.apartment which is under main package realestate\n",
    "from realestate.apartment import Location ## importing Location module from subpackage realestate.apartment which is under main package realestate\n",
    "from realestate.apartment import Condition ## importing Condition module from subpackage realestate.apartment which is under main package realestate"
   ]
  },
  {
   "cell_type": "markdown",
   "id": "3796af80-534c-457a-8c1f-8ea0f626f75f",
   "metadata": {
    "tags": []
   },
   "source": [
    "#### Use of Sub-package 1"
   ]
  },
  {
   "cell_type": "code",
   "execution_count": 14,
   "id": "08698fa0-3edb-4fde-85ab-a9ee48040d3c",
   "metadata": {},
   "outputs": [
    {
     "name": "stdout",
     "output_type": "stream",
     "text": [
      "Price Range for 1BHK Apartment is : 150000 - 200000 CAD\n",
      "Area Range for 1BHK Apartment is : 500 - 800 sqft\n",
      "Floors Available for 1BHK are : [2, 3, 7, 11, 13]\n",
      "Price Range for USA Apartment is : 250000 - 400000 USD\n",
      "Area Range for USA Apartment is : 500 - 1500 sqft\n",
      "Cities Available for USA property are : ['Chicago', 'Seattle', 'New York', 'Boston']\n",
      "Localities Available for USA property are : ['Charles Street', 'Brown Road', 'Morgan Highway', 'Alpine Park']\n",
      "Directions Available for USA property are : ['North', 'South', 'East', 'West', 'North East']\n",
      "Price Range for 0-3 Apartment is : 250000 - 300000 CAD\n",
      "Area Range for 0-3 Apartment is : 800 - 1200 sqft\n",
      "Maintenance Status for 0-3 property is : Not Required\n",
      "Discounts Available for 0-3 property are : 0-5%\n",
      "Furnishing Status for 0-3 property are : Fully Furnished\n"
     ]
    }
   ],
   "source": [
    "#This is for apartment (Sub-package 1)\n",
    "\n",
    "apartment_type = Feature.ApartmentType('1BHK') ## Instantiating the object apartment_type of class ApartmentType which is present under Feature Module\n",
    "apartment_location = Location.Location('USA') ## Instantiating the object apartment_location of class Location which is present under Location Module\n",
    "apartment_condition = Condition.Condition('0-3') ## Instantiating the object apartment_condition of class Condition which is present under Condition Module\n",
    "\n",
    "apartment_details = [apartment_type, apartment_location, apartment_condition] ## Created the list of objects created whcih were instantiated in the previous line of code\n",
    "for apartment_detail in apartment_details: ## traversing through each object which is part of list\n",
    "    apartment_detail.apartment_display() ## access the common class method using the object created"
   ]
  },
  {
   "cell_type": "markdown",
   "id": "85baf5ab-2cab-47c5-adf0-b715bb5df7ea",
   "metadata": {},
   "source": [
    "#### Use of Sub-package 2"
   ]
  },
  {
   "cell_type": "code",
   "execution_count": 8,
   "id": "05677c1b-ff83-4e83-9bb6-9f54af73f7b4",
   "metadata": {},
   "outputs": [
    {
     "name": "stdout",
     "output_type": "stream",
     "text": [
      "Here you can give your requirements for the house you want to buy and view its characteristics.\n",
      "\n",
      "\n",
      " -- Enter the number of family members who will live in the house:\n",
      "    You can enter from the following options: 1, 2, or 3 or more.\n"
     ]
    },
    {
     "name": "stdin",
     "output_type": "stream",
     "text": [
      " 1\n"
     ]
    },
    {
     "name": "stdout",
     "output_type": "stream",
     "text": [
      "\n",
      "\n",
      " -- Enter your budget criteria:\n",
      "    You can enter from the following options: low, medium, or high.\n"
     ]
    },
    {
     "name": "stdin",
     "output_type": "stream",
     "text": [
      " low\n"
     ]
    },
    {
     "name": "stdout",
     "output_type": "stream",
     "text": [
      "\n",
      "\n",
      " -- Enter your number of floors you wish to have in your house:\n",
      "    You can enter from the following options: 1, 2, or 3.\n"
     ]
    },
    {
     "name": "stdin",
     "output_type": "stream",
     "text": [
      " 3\n"
     ]
    },
    {
     "name": "stdout",
     "output_type": "stream",
     "text": [
      "The price range you will get based on your choices is 500000-600000.\n",
      "The house area you will get based on your choices is 1400 sq. ft.\n",
      "The house quality you will get based on your choices is Average Quality.\n",
      "The amenities you will get based on your choices are Hospital, Park, Shopping Center, School, and a Mall.\n",
      "The different views options you will get based on your choices are Normal view, park facing, or sea facing.\n",
      "The population around your house based on your choices is highly populated.\n",
      "\n",
      "\n",
      "\n",
      "\n",
      "Now, if you want to know more about house facilities again enter the requirements as before: \n",
      "\n",
      "\n",
      " -- Enter the number of family members who will live in the house:\n",
      "    You can enter from the following options: 1, 2, or 3 or more.\n"
     ]
    },
    {
     "name": "stdin",
     "output_type": "stream",
     "text": [
      " 1\n"
     ]
    },
    {
     "name": "stdout",
     "output_type": "stream",
     "text": [
      "\n",
      "\n",
      " -- Enter your budget criteria:\n",
      "    You can enter from the following options: low, medium, or high.\n"
     ]
    },
    {
     "name": "stdin",
     "output_type": "stream",
     "text": [
      " low\n"
     ]
    },
    {
     "name": "stdout",
     "output_type": "stream",
     "text": [
      "\n",
      "\n",
      " -- Enter your number of floors you wish to have in your house:\n",
      "    You can enter from the following options: 1, 2, or 3.\n"
     ]
    },
    {
     "name": "stdin",
     "output_type": "stream",
     "text": [
      " 3\n"
     ]
    },
    {
     "name": "stdout",
     "output_type": "stream",
     "text": [
      "The price range you will get based on your choices is 500000-600000.\n",
      "The house area you will get based on your choices is 1400 sq. ft.\n",
      "The house quality you will get based on your choices is Average Quality.\n",
      "The garage options you will get based on your choices are No Garage available.\n",
      "The Swimming pool options you will get based on your choices are No Swimming Pool.\n",
      "The furnishing condition of your house based on your choices is Partially Furnished.\n"
     ]
    }
   ],
   "source": [
    "#This is for family home (Sub-package 2)\n",
    "\n",
    "print(\"Here you can give your requirements for the house you want to buy and view its characteristics.\")\n",
    "print(\"\\n\")\n",
    "print(\" -- Enter the number of family members who will live in the house:\")\n",
    "print(\"    You can enter from the following options: 1, 2, or 3 or more.\")\n",
    "fm = input() ## Taking the input from the users for entering the number of family members\n",
    "print(\"\\n\")\n",
    "print(\" -- Enter your budget criteria:\")\n",
    "print(\"    You can enter from the following options: low, medium, or high.\")\n",
    "b = input() ## Taking the input from the user for entering budget criteria\n",
    "print(\"\\n\")\n",
    "print(\" -- Enter your number of floors you wish to have in your house:\")\n",
    "print(\"    You can enter from the following options: 1, 2, or 3.\")\n",
    "f = input() ## Taking the input from the users for entering floors\n",
    "\n",
    "obj = areatype.AreaType(fm, b, f) ## Instantiating the object of class areaType which is part of module areaType with the values which are taken as inputs from the user\n",
    "obj.Characteristics_display() ## calling the common class method with the object which is instantiated\n",
    "print(\"\\n\")\n",
    "print(\"\\n\")\n",
    "\n",
    "\n",
    "print(\"Now, if you want to know more about house facilities again enter the requirements as before: \")\n",
    "print(\"\\n\")\n",
    "print(\" -- Enter the number of family members who will live in the house:\")\n",
    "print(\"    You can enter from the following options: 1, 2, or 3 or more.\")\n",
    "fm = input() ## Asking the users again to enter number of family members\n",
    "print(\"\\n\")\n",
    "print(\" -- Enter your budget criteria:\")\n",
    "print(\"    You can enter from the following options: low, medium, or high.\")\n",
    "b = input() ## Asking the user again to enter the budget criteria\n",
    "print(\"\\n\")\n",
    "print(\" -- Enter your number of floors you wish to have in your house:\")\n",
    "print(\"    You can enter from the following options: 1, 2, or 3.\")\n",
    "f = input() ## Asking the user again to enter the number of floors in the house\n",
    "\n",
    "\n",
    "obj1 = highlights.Highlights(fm, b, f) ## Instantiating the object of class Highlights which is part of module highlights with the values which are taken as inputs from the user\n",
    "obj1.Characteristics_display() ## calling the common class method with the object which is instantiated"
   ]
  }
 ],
 "metadata": {
  "kernelspec": {
   "display_name": "Python 3 (ipykernel)",
   "language": "python",
   "name": "python3"
  },
  "language_info": {
   "codemirror_mode": {
    "name": "ipython",
    "version": 3
   },
   "file_extension": ".py",
   "mimetype": "text/x-python",
   "name": "python",
   "nbconvert_exporter": "python",
   "pygments_lexer": "ipython3",
   "version": "3.9.5"
  }
 },
 "nbformat": 4,
 "nbformat_minor": 5
}
